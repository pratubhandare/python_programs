{
 "cells": [
  {
   "cell_type": "markdown",
   "metadata": {},
   "source": [
    "# simple if statment"
   ]
  },
  {
   "cell_type": "code",
   "execution_count": 1,
   "metadata": {},
   "outputs": [
    {
     "name": "stdout",
     "output_type": "stream",
     "text": [
      "3\n"
     ]
    }
   ],
   "source": [
    "i=3    # variable \n",
    "if i >0:    # if the condition is statisfied print the value   \n",
    "    print(i) "
   ]
  },
  {
   "cell_type": "code",
   "execution_count": 9,
   "metadata": {},
   "outputs": [
    {
     "name": "stdout",
     "output_type": "stream",
     "text": [
      "enter ur age :23\n",
      "eligible for voting :\n"
     ]
    }
   ],
   "source": [
    "age=int(input('enter ur age :'))\n",
    "if age>18:\n",
    "    print('eligible for voting ')"
   ]
  },
  {
   "cell_type": "markdown",
   "metadata": {},
   "source": [
    "# if else statment"
   ]
  },
  {
   "cell_type": "markdown",
   "metadata": {},
   "source": [
    "# write a program to check the name is correct or not."
   ]
  },
  {
   "cell_type": "code",
   "execution_count": 1,
   "metadata": {},
   "outputs": [
    {
     "name": "stdout",
     "output_type": "stream",
     "text": [
      "enter your name :pratiksha\n",
      "correct  pratiksha\n"
     ]
    }
   ],
   "source": [
    "name=input('enter your name :')\n",
    "if name=='pratiksha':\n",
    "    print('correct ',name)\n",
    "else:\n",
    "    print('the ', name ,'is incorrect')\n"
   ]
  },
  {
   "cell_type": "markdown",
   "metadata": {},
   "source": [
    "# write a program to accept number from user and display the number is evenor odd number."
   ]
  },
  {
   "cell_type": "code",
   "execution_count": 5,
   "metadata": {},
   "outputs": [
    {
     "name": "stdout",
     "output_type": "stream",
     "text": [
      "22 is even number\n"
     ]
    }
   ],
   "source": [
    "\n",
    "# input() : for accept the value from user\n",
    "#int : convert that input into integer number\n",
    "\n",
    "number=int(input('enter the number :'))\n",
    "\n",
    "if number%2==0:\n",
    "    print(number,'is even number')\n",
    "else:\n",
    "    print(number,'is odd number')"
   ]
  },
  {
   "cell_type": "markdown",
   "metadata": {},
   "source": [
    "# write a program to disply 'hello' if a number entered by user is a multiple of five otherwise print by."
   ]
  },
  {
   "cell_type": "code",
   "execution_count": 6,
   "metadata": {},
   "outputs": [
    {
     "name": "stdout",
     "output_type": "stream",
     "text": [
      "enter the num :15\n",
      "hello\n"
     ]
    }
   ],
   "source": [
    "num=int(input('enter the num :'))\n",
    "\n",
    "if num%5==0:\n",
    "    print('hello')\n",
    "else:\n",
    "    print('bye')"
   ]
  },
  {
   "cell_type": "markdown",
   "metadata": {},
   "source": [
    "# Using input function find the maximum number among two numbers (if else function)"
   ]
  },
  {
   "cell_type": "code",
   "execution_count": 10,
   "metadata": {},
   "outputs": [
    {
     "name": "stdout",
     "output_type": "stream",
     "text": [
      "Enter the first number :2\n",
      "Enter the second number :3\n",
      "3 is the maximum number.\n"
     ]
    }
   ],
   "source": [
    "a = int(input(\"Enter the first number :\"))\n",
    "b = int(input(\"Enter the second number :\"))\n",
    "if a>b:\n",
    "    print(a,\"is the maximum number.\")\n",
    "else:\n",
    "    print(b,\"is the maximum number.\")\n",
    "    "
   ]
  },
  {
   "cell_type": "markdown",
   "metadata": {},
   "source": [
    "# Using Eladder if-else function finding the number is positive ,negative or zero."
   ]
  },
  {
   "cell_type": "code",
   "execution_count": null,
   "metadata": {},
   "outputs": [],
   "source": [
    "i= int(input(\"Enter the number :\"))\n",
    "if i>0:\n",
    "    print(\"The number is positive\")\n",
    "elif i<0:\n",
    "    print(\"The number is negative\")\n",
    "elif i==0:\n",
    "    print(\"Zero\")\n",
    "else:\n",
    "    print(\"Invalid\")"
   ]
  },
  {
   "cell_type": "markdown",
   "metadata": {},
   "source": [
    "# Using Nested if Function find the number is zero or greater than zero or smaller than zero"
   ]
  },
  {
   "cell_type": "code",
   "execution_count": null,
   "metadata": {},
   "outputs": [],
   "source": [
    "n = float(input(\"Enter the number :\"))\n",
    "if n>=0:\n",
    "    if n==0:\n",
    "        print(\"Zero\")\n",
    "    else:\n",
    "        print(\"Greater tha zero\")\n",
    "else:\n",
    "    print(\"Less than zero\")"
   ]
  },
  {
   "cell_type": "code",
   "execution_count": null,
   "metadata": {},
   "outputs": [],
   "source": [
    "Here we got the answer in decimals as we used float function , we can use integer(int) function also"
   ]
  },
  {
   "cell_type": "markdown",
   "metadata": {},
   "source": [
    "# username and password"
   ]
  },
  {
   "cell_type": "code",
   "execution_count": 1,
   "metadata": {},
   "outputs": [
    {
     "name": "stdout",
     "output_type": "stream",
     "text": [
      "enter user name :pratu@123\n",
      "enter your password :12@p2022\n",
      "welcome to my page\n"
     ]
    }
   ],
   "source": [
    "user_name=input('enter user name :')\n",
    "\n",
    "if user_name=='pratu@123':\n",
    "    password=input('enter your password :')\n",
    "    if password=='12@p2022':\n",
    "        print('welcome to my page')\n",
    "    else:\n",
    "        print('password incorrect ')\n",
    "else:\n",
    "    print('invalid username pls try again')\n",
    "    "
   ]
  },
  {
   "cell_type": "markdown",
   "metadata": {},
   "source": [
    "# write a program to calculate the electricity bill accept the unit from user . \n"
   ]
  },
  {
   "cell_type": "code",
   "execution_count": 4,
   "metadata": {},
   "outputs": [
    {
     "name": "stdout",
     "output_type": "stream",
     "text": [
      "enter the unit :90\n",
      "90\n"
     ]
    }
   ],
   "source": [
    "unit=int(input('enter the unit :'))\n",
    "\n",
    "if unit>=200:\n",
    "    per_unit=10\n",
    "    total_bill=unit*per_unit\n",
    "    print(total_bill)\n",
    "elif unit>=100:\n",
    "    per_unit=5\n",
    "    total_bill=unit*per_unit\n",
    "    print(total_bill)\n",
    "else:\n",
    "    print(unit)\n",
    "    \n",
    "    "
   ]
  },
  {
   "cell_type": "markdown",
   "metadata": {},
   "source": [
    "# write a program to display the last digit of a number.\n"
   ]
  },
  {
   "cell_type": "raw",
   "metadata": {},
   "source": [
    "(hint : any number %10 will return the last digit)"
   ]
  },
  {
   "cell_type": "code",
   "execution_count": 6,
   "metadata": {},
   "outputs": [
    {
     "name": "stdout",
     "output_type": "stream",
     "text": [
      "enter the number :12345\n",
      "5\n"
     ]
    }
   ],
   "source": [
    "number=int(input('enter the number :'))\n",
    "last_digit=number%10\n",
    "print(last_digit)\n",
    "    "
   ]
  },
  {
   "cell_type": "markdown",
   "metadata": {},
   "source": [
    "# write a program to check whether the last digit  of a number is divisible by 3 or not."
   ]
  },
  {
   "cell_type": "code",
   "execution_count": 7,
   "metadata": {},
   "outputs": [
    {
     "name": "stdout",
     "output_type": "stream",
     "text": [
      "enter the number :123456\n",
      "6\n"
     ]
    }
   ],
   "source": [
    "number=int(input('enter the number :'))\n",
    "last_digit=number%10\n",
    "if last_digit %3==0:\n",
    "    print(last_digit)"
   ]
  },
  {
   "cell_type": "markdown",
   "metadata": {},
   "source": [
    "# write a program to accept marks from the user and display the grade. "
   ]
  },
  {
   "cell_type": "code",
   "execution_count": 12,
   "metadata": {},
   "outputs": [
    {
     "name": "stdout",
     "output_type": "stream",
     "text": [
      "enter the ur marks :88\n",
      "grade B\n"
     ]
    }
   ],
   "source": [
    "marks=int(input('enter the ur marks :'))\n",
    "\n",
    "if marks>=90:\n",
    "    print('grade A')\n",
    "elif marks>=70 and marks<90:\n",
    "    print('grade B')\n",
    "elif marks>=50 and marks<70:\n",
    "    print('grade C')\n",
    "elif marks>=35 and marks<50:\n",
    "    print('grade D')\n",
    "else:\n",
    "    print('FAIL')\n",
    "\n"
   ]
  },
  {
   "cell_type": "markdown",
   "metadata": {},
   "source": [
    "# w.a.p to accept the cost price of a bike and disply the road tax to be paid."
   ]
  },
  {
   "cell_type": "code",
   "execution_count": 5,
   "metadata": {},
   "outputs": [
    {
     "name": "stdout",
     "output_type": "stream",
     "text": [
      "enter the car price :6700\n",
      "no tax\n"
     ]
    }
   ],
   "source": [
    "car_price=int(input('enter the car price :'))\n",
    "\n",
    "if car_price>100000:\n",
    "    tax=(15/100)*car_price\n",
    "    print(tax)\n",
    "elif car_price> 80000:\n",
    "    tax=(10/100)*car_price\n",
    "    print(tax)\n",
    "elif car_price> 50000:\n",
    "    tax=(5/100)*car_price\n",
    "    print(tax) \n",
    "else:\n",
    "    \n",
    "    print('no tax')"
   ]
  },
  {
   "cell_type": "markdown",
   "metadata": {},
   "source": [
    "# guessing game"
   ]
  },
  {
   "cell_type": "code",
   "execution_count": 9,
   "metadata": {},
   "outputs": [
    {
     "name": "stdout",
     "output_type": "stream",
     "text": [
      "Guess :4\n",
      "you won !\n",
      "secreate number is  4\n"
     ]
    }
   ],
   "source": [
    "secret_num=4\n",
    "guess_count=1\n",
    "guess_limit=5\n",
    "\n",
    "while guess_count < guess_limit:\n",
    "    guess=int(input('Guess :'))\n",
    "    guess_count += 1\n",
    "    if guess==secret_num:\n",
    "        print('you won !')\n",
    "        break\n",
    "else:\n",
    "    print('sorry, you failed !')\n",
    "print('secreate number is  {}'.format(secret_num))"
   ]
  },
  {
   "cell_type": "markdown",
   "metadata": {},
   "source": [
    "# car game"
   ]
  },
  {
   "cell_type": "code",
   "execution_count": 10,
   "metadata": {},
   "outputs": [
    {
     "name": "stdout",
     "output_type": "stream",
     "text": [
      "> start\n",
      "car started...\n",
      "> stop\n",
      "car stopped....\n",
      "> start\n",
      "car started...\n",
      "> quit\n",
      "\n"
     ]
    }
   ],
   "source": [
    "\n",
    "command=''\n",
    "while True:\n",
    "    command=input('> ').lower()\n",
    "    if command=='start':\n",
    "        print('car started...')\n",
    "    elif command=='stop':\n",
    "        print('car stopped....')\n",
    "    elif command=='help':\n",
    "        print(''' \n",
    "start : to start the car\n",
    "stop : to stop the car\n",
    "quit : to quit\n",
    "        ''')\n",
    "    elif command=='quit':\n",
    "        break\n",
    "    else:\n",
    "        print('sorry, i don\\'t understand the command ')\n",
    "print()"
   ]
  },
  {
   "cell_type": "code",
   "execution_count": 12,
   "metadata": {},
   "outputs": [
    {
     "name": "stdout",
     "output_type": "stream",
     "text": [
      "> start\n",
      "car started...\n",
      "> start\n",
      "car is alredy started !..\n",
      "> quit\n"
     ]
    }
   ],
   "source": [
    "\n",
    "#modifying car game\n",
    "# car game\n",
    "command=''\n",
    "started=False\n",
    "while True:\n",
    "    command=input('> ').lower()\n",
    "    if command=='start':\n",
    "        if started:\n",
    "            print('car is alredy started !..')\n",
    "        else:\n",
    "            started=True\n",
    "            print('car started...')\n",
    "    elif command=='stop':\n",
    "        if not started:\n",
    "            print('car is alredy stopped')\n",
    "        else:\n",
    "            started=False\n",
    "            print('car stopped....')\n",
    "    elif command=='help':\n",
    "        print(\"\"\" \n",
    "start : to start the car\n",
    "stop : to stop the car\n",
    "quit : to quit\n",
    "        \"\"\")\n",
    "    elif command==\"quit\":\n",
    "        break\n",
    "    else:\n",
    "        print(\"sorry, i don't understand the command \")"
   ]
  },
  {
   "cell_type": "markdown",
   "metadata": {},
   "source": [
    "#Using input function swap two numbers"
   ]
  },
  {
   "cell_type": "code",
   "execution_count": null,
   "metadata": {},
   "outputs": [],
   "source": [
    "# Q1 . swap two number\n",
    "\n",
    "x1 = float(input(\"Enter the first number :\"))\n",
    "y1 = float(input(\"Enter the second number :\"))\n",
    "\n",
    "x1,y1=y1,x1\n",
    "\n",
    "print(x1,y1)"
   ]
  },
  {
   "cell_type": "code",
   "execution_count": null,
   "metadata": {},
   "outputs": [],
   "source": [
    "#Q2 swap two number using num variable \n",
    "\n",
    "x2 = int(input(\"Enter the first number :\"))\n",
    "y2 = float(input(\"Enter the second number :\"))\n",
    "\n",
    "num=x2\n",
    "x2=y2\n",
    "y2=num\n",
    "\n",
    "print(x2,y2)"
   ]
  },
  {
   "cell_type": "code",
   "execution_count": null,
   "metadata": {},
   "outputs": [],
   "source": [
    "# Q3 . \n",
    "x3 = float(input(\"Enter the first number :\"))\n",
    "y3 = float(input(\"Enter the second number :\"))\n",
    "\n",
    "x3=x3+y3\n",
    "y3=x3-y3\n",
    "x3=x3-y3\n",
    "\n",
    "print(x3,y3)"
   ]
  },
  {
   "cell_type": "code",
   "execution_count": null,
   "metadata": {},
   "outputs": [],
   "source": []
  }
 ],
 "metadata": {
  "kernelspec": {
   "display_name": "Python 3",
   "language": "python",
   "name": "python3"
  },
  "language_info": {
   "codemirror_mode": {
    "name": "ipython",
    "version": 3
   },
   "file_extension": ".py",
   "mimetype": "text/x-python",
   "name": "python",
   "nbconvert_exporter": "python",
   "pygments_lexer": "ipython3",
   "version": "3.8.5"
  }
 },
 "nbformat": 4,
 "nbformat_minor": 4
}
