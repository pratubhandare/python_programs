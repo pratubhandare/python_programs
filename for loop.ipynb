{
 "cells": [
  {
   "cell_type": "markdown",
   "metadata": {},
   "source": [
    "# write a program to print 1st 10 even num"
   ]
  },
  {
   "cell_type": "code",
   "execution_count": 6,
   "metadata": {},
   "outputs": [
    {
     "name": "stdout",
     "output_type": "stream",
     "text": [
      "even numbers are \n",
      "0\n",
      "2\n",
      "4\n",
      "6\n",
      "8\n",
      "10\n",
      "12\n",
      "14\n",
      "16\n",
      "18\n"
     ]
    }
   ],
   "source": [
    "print('even numbers are ')\n",
    "for i in range(20):\n",
    "    if i%2==0:\n",
    "        print(i)\n"
   ]
  },
  {
   "cell_type": "code",
   "execution_count": null,
   "metadata": {},
   "outputs": [],
   "source": [
    "# for loop with continue"
   ]
  },
  {
   "cell_type": "code",
   "execution_count": 40,
   "metadata": {},
   "outputs": [
    {
     "name": "stdout",
     "output_type": "stream",
     "text": [
      "java\n",
      ".net\n",
      "nodejs\n",
      "javascipt\n"
     ]
    }
   ],
   "source": [
    "list1=[\"java\",\".net\",\"python\",\"nodejs\",\"javascipt\"]\n",
    "sample=\"python\"\n",
    "for  i in list1:\n",
    "           if i==sample:\n",
    "                      continue \n",
    "           print(i)"
   ]
  },
  {
   "cell_type": "markdown",
   "metadata": {},
   "source": [
    "# fact of first given number ."
   ]
  },
  {
   "cell_type": "code",
   "execution_count": 43,
   "metadata": {},
   "outputs": [
    {
     "name": "stdout",
     "output_type": "stream",
     "text": [
      "enter the number:9\n",
      "362880\n"
     ]
    }
   ],
   "source": [
    "\n",
    "\n",
    "ns=input(\"enter the number:\")\n",
    "n=int(ns)\n",
    "fact=1\n",
    "for item in range(1,n+1):\n",
    "    fact=fact*item\n",
    "print(fact)\n"
   ]
  },
  {
   "cell_type": "code",
   "execution_count": 44,
   "metadata": {},
   "outputs": [
    {
     "name": "stdout",
     "output_type": "stream",
     "text": [
      "****\n",
      "***\n",
      "**\n",
      "*\n"
     ]
    }
   ],
   "source": []
  },
  {
   "cell_type": "markdown",
   "metadata": {},
   "source": [
    "# write  a program to print total count of the even number."
   ]
  },
  {
   "cell_type": "code",
   "execution_count": 7,
   "metadata": {},
   "outputs": [
    {
     "name": "stdout",
     "output_type": "stream",
     "text": [
      "even numbers are \n",
      "0\n",
      "2\n",
      "4\n",
      "6\n",
      "8\n",
      "10\n",
      "12\n",
      "14\n",
      "16\n",
      "18\n",
      "total count of the even num are : 10\n"
     ]
    }
   ],
   "source": [
    "print('even numbers are ')\n",
    "s=0\n",
    "for j in range(20):\n",
    "    if j%2==0:\n",
    "        s=s+1\n",
    "        print(j)\n",
    "print('total count of the even num are :',s)"
   ]
  },
  {
   "cell_type": "markdown",
   "metadata": {},
   "source": [
    "# write a program to print tabel  "
   ]
  },
  {
   "cell_type": "code",
   "execution_count": 10,
   "metadata": {},
   "outputs": [
    {
     "name": "stdout",
     "output_type": "stream",
     "text": [
      "2\n",
      "4\n",
      "6\n",
      "8\n",
      "10\n",
      "12\n",
      "14\n",
      "16\n",
      "18\n",
      "20\n"
     ]
    }
   ],
   "source": [
    "for i in range(2,21,2):  # strating poin , ending point, increament point\n",
    "    print(i)"
   ]
  },
  {
   "cell_type": "code",
   "execution_count": 13,
   "metadata": {},
   "outputs": [
    {
     "name": "stdout",
     "output_type": "stream",
     "text": [
      "2 x 1 = 2\n",
      "2 x 2 = 4\n",
      "2 x 3 = 6\n",
      "2 x 4 = 8\n",
      "2 x 5 = 10\n",
      "2 x 6 = 12\n",
      "2 x 7 = 14\n",
      "2 x 8 = 16\n",
      "2 x 9 = 18\n",
      "2 x 10 = 20\n"
     ]
    }
   ],
   "source": [
    "for num in range(1,11):\n",
    "    print(2,'x',num,'=',num*2)"
   ]
  },
  {
   "cell_type": "code",
   "execution_count": 7,
   "metadata": {},
   "outputs": [
    {
     "name": "stdout",
     "output_type": "stream",
     "text": [
      "1 * 2 = 2\n",
      "2 * 2 = 4\n",
      "3 * 2 = 6\n",
      "4 * 2 = 8\n",
      "5 * 2 = 10\n",
      "6 * 2 = 12\n",
      "7 * 2 = 14\n",
      "8 * 2 = 16\n",
      "9 * 2 = 18\n",
      "10 * 2 = 20\n",
      "\n",
      "1 * 3 = 3\n",
      "2 * 3 = 6\n",
      "3 * 3 = 9\n",
      "4 * 3 = 12\n",
      "5 * 3 = 15\n",
      "6 * 3 = 18\n",
      "7 * 3 = 21\n",
      "8 * 3 = 24\n",
      "9 * 3 = 27\n",
      "10 * 3 = 30\n",
      "\n",
      "1 * 4 = 4\n",
      "2 * 4 = 8\n",
      "3 * 4 = 12\n",
      "4 * 4 = 16\n",
      "5 * 4 = 20\n",
      "6 * 4 = 24\n",
      "7 * 4 = 28\n",
      "8 * 4 = 32\n",
      "9 * 4 = 36\n",
      "10 * 4 = 40\n",
      "\n",
      "1 * 5 = 5\n",
      "2 * 5 = 10\n",
      "3 * 5 = 15\n",
      "4 * 5 = 20\n",
      "5 * 5 = 25\n",
      "6 * 5 = 30\n",
      "7 * 5 = 35\n",
      "8 * 5 = 40\n",
      "9 * 5 = 45\n",
      "10 * 5 = 50\n",
      "\n",
      "1 * 6 = 6\n",
      "2 * 6 = 12\n",
      "3 * 6 = 18\n",
      "4 * 6 = 24\n",
      "5 * 6 = 30\n",
      "6 * 6 = 36\n",
      "7 * 6 = 42\n",
      "8 * 6 = 48\n",
      "9 * 6 = 54\n",
      "10 * 6 = 60\n",
      "\n",
      "1 * 7 = 7\n",
      "2 * 7 = 14\n",
      "3 * 7 = 21\n",
      "4 * 7 = 28\n",
      "5 * 7 = 35\n",
      "6 * 7 = 42\n",
      "7 * 7 = 49\n",
      "8 * 7 = 56\n",
      "9 * 7 = 63\n",
      "10 * 7 = 70\n",
      "\n",
      "1 * 8 = 8\n",
      "2 * 8 = 16\n",
      "3 * 8 = 24\n",
      "4 * 8 = 32\n",
      "5 * 8 = 40\n",
      "6 * 8 = 48\n",
      "7 * 8 = 56\n",
      "8 * 8 = 64\n",
      "9 * 8 = 72\n",
      "10 * 8 = 80\n",
      "\n",
      "1 * 9 = 9\n",
      "2 * 9 = 18\n",
      "3 * 9 = 27\n",
      "4 * 9 = 36\n",
      "5 * 9 = 45\n",
      "6 * 9 = 54\n",
      "7 * 9 = 63\n",
      "8 * 9 = 72\n",
      "9 * 9 = 81\n",
      "10 * 9 = 90\n",
      "\n",
      "1 * 10 = 10\n",
      "2 * 10 = 20\n",
      "3 * 10 = 30\n",
      "4 * 10 = 40\n",
      "5 * 10 = 50\n",
      "6 * 10 = 60\n",
      "7 * 10 = 70\n",
      "8 * 10 = 80\n",
      "9 * 10 = 90\n",
      "10 * 10 = 100\n",
      "\n"
     ]
    }
   ],
   "source": [
    "for i in range(2,11):\n",
    "    for j in range(1,11):\n",
    "        print(j,'*',i,'=',j*i)\n",
    "    print()"
   ]
  },
  {
   "cell_type": "markdown",
   "metadata": {},
   "source": [
    "# write a program to print the smallest divisor number."
   ]
  },
  {
   "cell_type": "code",
   "execution_count": 1,
   "metadata": {},
   "outputs": [
    {
     "name": "stdout",
     "output_type": "stream",
     "text": [
      "enter the  number : 888\n",
      "[2, 3, 4, 6, 8, 12, 24, 37, 74, 111, 148, 222, 296, 444, 888]\n",
      "smallest divisor of number is  2\n"
     ]
    }
   ],
   "source": [
    "n=int(input('enter the  number : '))\n",
    "c=[]\n",
    "for i in range(2,n+1):\n",
    "    if n%i==0:\n",
    "        c.append(i)   \n",
    "c.sort()\n",
    "print(c)\n",
    "print('smallest divisor of number is ',c[0]) "
   ]
  },
  {
   "cell_type": "markdown",
   "metadata": {},
   "source": [
    "# write a program to print the total count of even and odd number."
   ]
  },
  {
   "cell_type": "code",
   "execution_count": 11,
   "metadata": {},
   "outputs": [
    {
     "name": "stdout",
     "output_type": "stream",
     "text": [
      "even number total count : 25\n",
      "odd number total count : 24\n"
     ]
    }
   ],
   "source": [
    "e=0\n",
    "o=0\n",
    "for j in range(2,51):\n",
    "    if j%2==0:\n",
    "        e=e+1\n",
    "        #print('even :',j)\n",
    "        \n",
    "    else:\n",
    "        if j%2!=0:\n",
    "            o=o+1\n",
    "            #print('odd ',j)\n",
    "            \n",
    "print('even number total count :',e)\n",
    "print('odd number total count :',o)   "
   ]
  },
  {
   "cell_type": "markdown",
   "metadata": {},
   "source": [
    "# Pattern"
   ]
  },
  {
   "cell_type": "code",
   "execution_count": 2,
   "metadata": {},
   "outputs": [
    {
     "name": "stdout",
     "output_type": "stream",
     "text": [
      "Number Pattern \n",
      "enter the num :6\n",
      "1 \n",
      "1 2 \n",
      "1 2 3 \n",
      "1 2 3 4 \n",
      "1 2 3 4 5 \n",
      "1 2 3 4 5 6 \n"
     ]
    }
   ],
   "source": [
    "\n",
    "print(\"Number Pattern \")\n",
    "num=int(input('enter the num :'))\n",
    "for i in range(1, num + 1, 1):\n",
    "    # Run inner loop i+1 times\n",
    "    for j in range(1, i + 1):\n",
    "        print(j, end=' ')\n",
    "    # empty line after each row\n",
    "    print(\"\")"
   ]
  },
  {
   "cell_type": "code",
   "execution_count": 9,
   "metadata": {},
   "outputs": [
    {
     "name": "stdout",
     "output_type": "stream",
     "text": [
      "pyramid \n",
      "enter the num :6\n",
      "* \n",
      "* * \n",
      "* * * \n",
      "* * * * \n",
      "* * * * * \n",
      "* * * * * * \n"
     ]
    }
   ],
   "source": [
    "print(\"pyramid \")\n",
    "num=int(input('enter the num :'))\n",
    "for i in range(1, num + 1, 1):\n",
    "    for j in range(1,i+1):\n",
    "        print('*',end=' ')\n",
    "    print('')"
   ]
  },
  {
   "cell_type": "code",
   "execution_count": 14,
   "metadata": {},
   "outputs": [
    {
     "name": "stdout",
     "output_type": "stream",
     "text": [
      "pyramid \n",
      "enter the num :6\n",
      "* * * * * * \n",
      "* * * * * \n",
      "* * * * \n",
      "* * * \n",
      "* * \n",
      "* \n"
     ]
    }
   ],
   "source": [
    "print(\"pyramid \")\n",
    "num=int(input('enter the num :'))\n",
    "for i in range(num+1,1, -1):\n",
    "    for j in range(1,i):\n",
    "        print('*',end=' ')\n",
    "    print('')"
   ]
  },
  {
   "cell_type": "code",
   "execution_count": 47,
   "metadata": {},
   "outputs": [
    {
     "name": "stdout",
     "output_type": "stream",
     "text": [
      " *  *  *  *  *  * \n",
      " *  *  *  *  * \n",
      " *  *  *  * \n",
      " *  *  * \n",
      " *  * \n",
      " * \n"
     ]
    }
   ],
   "source": [
    "#for\n",
    "for i in range(6,0,-1):\n",
    "           print(i * \" * \")"
   ]
  },
  {
   "cell_type": "code",
   "execution_count": 27,
   "metadata": {},
   "outputs": [
    {
     "name": "stdout",
     "output_type": "stream",
     "text": [
      "1  \n",
      "2  2  \n",
      "3  3  3  \n",
      "4  4  4  4  \n",
      "5  5  5  5  5  \n",
      "6  6  6  6  6  6  \n",
      "7  7  7  7  7  7  7  \n",
      "8  8  8  8  8  8  8  8  \n",
      "9  9  9  9  9  9  9  9  9  \n"
     ]
    }
   ],
   "source": [
    "sp=20\n",
    "num=1\n",
    "for i in range(1,10):\n",
    "    for k in range(1,sp):\n",
    "        print('',end='')\n",
    "    for j in range(1,i+1):\n",
    "        num=num+3\n",
    "        print(i,end='  ')\n",
    "    print()\n",
    "    sp=sp-2"
   ]
  },
  {
   "cell_type": "code",
   "execution_count": 28,
   "metadata": {},
   "outputs": [
    {
     "name": "stdout",
     "output_type": "stream",
     "text": [
      "                   1   \n",
      "                 2   2   \n",
      "               3   3   3   \n",
      "             4   4   4   4   \n",
      "           5   5   5   5   5   \n",
      "         6   6   6   6   6   6   \n",
      "       7   7   7   7   7   7   7   \n",
      "     8   8   8   8   8   8   8   8   \n",
      "   9   9   9   9   9   9   9   9   9   \n"
     ]
    }
   ],
   "source": [
    "sp=20\n",
    "num=1\n",
    "for i in range(1,10):\n",
    "    for k in range(1,sp):\n",
    "        print('',end=' ')\n",
    "    for j in range(1,i+1):\n",
    "        num=num+3\n",
    "        print(i,end='   ')\n",
    "    print()\n",
    "    sp=sp-2"
   ]
  },
  {
   "cell_type": "code",
   "execution_count": 30,
   "metadata": {},
   "outputs": [
    {
     "name": "stdout",
     "output_type": "stream",
     "text": [
      "                   *   \n",
      "                 *   *   \n",
      "               *   *   *   \n",
      "             *   *   *   *   \n",
      "           *   *   *   *   *   \n",
      "         *   *   *   *   *   *   \n",
      "       *   *   *   *   *   *   *   \n"
     ]
    }
   ],
   "source": [
    "sp=20\n",
    "num=1\n",
    "for i in range(1,8):\n",
    "    for k in range(1,sp):\n",
    "        print( '',end=' ')\n",
    "    for j in range(1,i+1):\n",
    "        num=num+3\n",
    "        print('*',end='   ')\n",
    "    print()\n",
    "    sp=sp-2"
   ]
  },
  {
   "cell_type": "markdown",
   "metadata": {},
   "source": [
    "# Calculate the sum of all numbers from 1 to a given number."
   ]
  },
  {
   "cell_type": "code",
   "execution_count": 5,
   "metadata": {},
   "outputs": [
    {
     "name": "stdout",
     "output_type": "stream",
     "text": [
      "enter the num :6\n",
      "15\n"
     ]
    }
   ],
   "source": [
    "\n",
    "\n",
    "sum=0\n",
    "num=int(input('enter the num :'))\n",
    "for i in range(1,num):\n",
    "    sum=sum+i\n",
    "print(sum)\n",
    "    "
   ]
  },
  {
   "cell_type": "markdown",
   "metadata": {},
   "source": [
    "# Print list in reverse order using a loop."
   ]
  },
  {
   "cell_type": "code",
   "execution_count": 7,
   "metadata": {},
   "outputs": [
    {
     "name": "stdout",
     "output_type": "stream",
     "text": [
      "[50, 40, 30, 20, 10]\n"
     ]
    }
   ],
   "source": [
    "\n",
    "\n",
    "list1 = [10, 20, 30, 40, 50]\n",
    "\n",
    "reverse_list = reversed(list1)  # reverse list\n",
    "new_list=[]\n",
    "for item in reverse_list:   # iterate reversed list\n",
    "    new_list.append(item)\n",
    "\n",
    "print(new_list)\n",
    "    "
   ]
  },
  {
   "cell_type": "markdown",
   "metadata": {},
   "source": [
    "# write a program to print the num is  perfect number or not ."
   ]
  },
  {
   "cell_type": "code",
   "execution_count": 48,
   "metadata": {},
   "outputs": [
    {
     "name": "stdout",
     "output_type": "stream",
     "text": [
      "enter the num :6\n",
      "1\n",
      "2\n",
      "3\n",
      "the  6  is perfect number\n"
     ]
    }
   ],
   "source": [
    "num=int(input('enter the num :'))\n",
    "sum=0\n",
    "for div in range(1,num//2+1):\n",
    "    if (num%div==0):\n",
    "        print(div)\n",
    "        sum=sum+div\n",
    "        \n",
    "        if sum==num:\n",
    "            print('the ',num,' is perfect number')\n",
    "        \n",
    "    "
   ]
  },
  {
   "cell_type": "code",
   "execution_count": null,
   "metadata": {},
   "outputs": [],
   "source": []
  },
  {
   "cell_type": "code",
   "execution_count": null,
   "metadata": {},
   "outputs": [],
   "source": [
    "\n",
    "\n"
   ]
  },
  {
   "cell_type": "code",
   "execution_count": null,
   "metadata": {},
   "outputs": [],
   "source": []
  }
 ],
 "metadata": {
  "kernelspec": {
   "display_name": "Python 3",
   "language": "python",
   "name": "python3"
  },
  "language_info": {
   "codemirror_mode": {
    "name": "ipython",
    "version": 3
   },
   "file_extension": ".py",
   "mimetype": "text/x-python",
   "name": "python",
   "nbconvert_exporter": "python",
   "pygments_lexer": "ipython3",
   "version": "3.8.5"
  }
 },
 "nbformat": 4,
 "nbformat_minor": 4
}
