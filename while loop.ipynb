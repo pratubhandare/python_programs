{
 "cells": [
  {
   "cell_type": "markdown",
   "metadata": {},
   "source": [
    "# write a program to print the square ."
   ]
  },
  {
   "cell_type": "code",
   "execution_count": 3,
   "metadata": {},
   "outputs": [
    {
     "name": "stdout",
     "output_type": "stream",
     "text": [
      "square of 1 is :  1\n",
      "square of 2 is :  4\n",
      "square of 3 is :  9\n",
      "square of 4 is :  16\n",
      "square of 5 is :  25\n",
      "square of 6 is :  36\n",
      "square of 7 is :  49\n",
      "square of 8 is :  64\n",
      "square of 9 is :  81\n",
      "square of 10 is :  100\n",
      "........................\n"
     ]
    }
   ],
   "source": [
    "i=1                #.........starting point\n",
    "while i<=10:       #.........condition\n",
    "    print('square of {} is : '.format(i),i**2)  \n",
    "    i=i+1           #........increment\n",
    "\n",
    "print(\"........................\")\n"
   ]
  },
  {
   "cell_type": "markdown",
   "metadata": {},
   "source": [
    "# sum of all given numbers."
   ]
  },
  {
   "cell_type": "code",
   "execution_count": 7,
   "metadata": {},
   "outputs": [
    {
     "name": "stdout",
     "output_type": "stream",
     "text": [
      "enter the no:2\n",
      "sum of given num is :  209\n"
     ]
    }
   ],
   "source": [
    "sum=0\n",
    "\n",
    "i=int(input(\"enter the no:\"))\n",
    "while i<=20:\n",
    "    sum=sum+i\n",
    "   \n",
    "    i=i+1\n",
    "print('sum of given num is : ',sum)"
   ]
  },
  {
   "cell_type": "markdown",
   "metadata": {},
   "source": [
    "# describe the num is inside or outside the loop."
   ]
  },
  {
   "cell_type": "code",
   "execution_count": 9,
   "metadata": {},
   "outputs": [
    {
     "name": "stdout",
     "output_type": "stream",
     "text": [
      "inside the loop : 0\n",
      "inside the loop : 1\n",
      "inside the loop : 2\n",
      "inside the loop : 3\n",
      "outside the loop : 4\n"
     ]
    }
   ],
   "source": [
    "\n",
    "c=0\n",
    "while c<=3:\n",
    "    print(\"inside the loop :\",c)\n",
    "    c=c+1\n",
    "else:\n",
    "    print(\"outside the loop :\",c)\n"
   ]
  },
  {
   "cell_type": "markdown",
   "metadata": {},
   "source": [
    "# find vowels ."
   ]
  },
  {
   "cell_type": "code",
   "execution_count": 19,
   "metadata": {},
   "outputs": [
    {
     "name": "stdout",
     "output_type": "stream",
     "text": [
      "enter the vowel q\n",
      "not vowel pls try again\n",
      "enter the vowel s\n",
      "not vowel pls try again\n",
      "enter the vowel a\n",
      "=======this is a vowel======  \n",
      "........you win ........\n"
     ]
    }
   ],
   "source": [
    "V=\"aeiouAEIOU\"\n",
    "while True:\n",
    "    a=input(\"enter the vowel \")\n",
    "    if a in V:\n",
    "        print('=======this is a vowel======  ')\n",
    "        break\n",
    "    \n",
    "    print(\"not vowel pls try again\")\n",
    "print(\"........you win ........\")"
   ]
  },
  {
   "cell_type": "code",
   "execution_count": 26,
   "metadata": {},
   "outputs": [
    {
     "name": "stdout",
     "output_type": "stream",
     "text": [
      "enter the vowel q\n",
      "you loose try again\n",
      "enter the vowel f\n",
      "you loose try again\n",
      "enter the vowel u\n",
      "**catch the vowel** \n",
      "------you win-------\n",
      "thank you for playing\n"
     ]
    }
   ],
   "source": [
    "V=\"aeiouAEIOU\"\n",
    "while True:\n",
    "    a=input(\"enter the vowel \")\n",
    "    if a in V:\n",
    "        print('**catch the vowel** \\n------you win-------')\n",
    "        break\n",
    "   \n",
    "    print(\"you loose try again\")\n",
    "print(\"thank you for playing\")\n"
   ]
  },
  {
   "cell_type": "markdown",
   "metadata": {},
   "source": [
    "# write a program to separate even ,odd and whole number. \n"
   ]
  },
  {
   "cell_type": "code",
   "execution_count": 30,
   "metadata": {},
   "outputs": [
    {
     "name": "stdout",
     "output_type": "stream",
     "text": [
      "enter the limit>>10\n",
      "even numbers are [2, 4, 6, 8, 10] \n",
      "whole numbers are [0, 1, 2, 3, 4, 5, 6, 7, 8, 9, 10] \n",
      "odd numbers are [1, 3, 5, 7, 9]\n"
     ]
    }
   ],
   "source": [
    "num=int(input(\"enter the limit>>\"))\n",
    "i=0\n",
    "evenlist=[]\n",
    "oddlist=[]\n",
    "wholelist=[]\n",
    "while i <= num:\n",
    "           if i==0:\n",
    "                      wholelist.append(i)\n",
    "           elif i==1:\n",
    "                      oddlist.append(i)\n",
    "                      wholelist.append(i)\n",
    "           elif i==2:\n",
    "                      evenlist.append(i)\n",
    "                      wholelist.append(i)\n",
    "           elif i%2==0:\n",
    "                      evenlist.append(i)\n",
    "                      wholelist.append(i)\n",
    "           elif i%2!=0:\n",
    "                      oddlist.append(i)\n",
    "                      wholelist.append(i)\n",
    "\n",
    "           \n",
    "           i=i+1          \n",
    "print(\"even numbers are\",list(evenlist),\"\\nwhole numbers are\", list(rationallist),\"\\nodd numbers are\",list(oddlist))\n",
    "\n"
   ]
  },
  {
   "cell_type": "markdown",
   "metadata": {},
   "source": [
    "# Pattern."
   ]
  },
  {
   "cell_type": "code",
   "execution_count": 33,
   "metadata": {},
   "outputs": [
    {
     "name": "stdout",
     "output_type": "stream",
     "text": [
      "enter the num :6\n",
      "* \n",
      "* * \n",
      "* * * \n",
      "* * * * \n",
      "* * * * * \n",
      "* * * * * * \n"
     ]
    }
   ],
   "source": [
    "num=int(input('enter the num :'))\n",
    "i=1\n",
    "while(i<=num):\n",
    "    j=1\n",
    "    while(j<=i):\n",
    "        print('*',end=' ')\n",
    "        j+=1\n",
    "    print()\n",
    "    i+=1"
   ]
  },
  {
   "cell_type": "code",
   "execution_count": 35,
   "metadata": {},
   "outputs": [
    {
     "name": "stdout",
     "output_type": "stream",
     "text": [
      "enter the num :6\n",
      "* * * * * * \n",
      "* * * * * \n",
      "* * * * \n",
      "* * * \n",
      "* * \n",
      "* \n"
     ]
    }
   ],
   "source": [
    "num=int(input('enter the num :'))\n",
    "i=1\n",
    "while(i<=num):\n",
    "    j=num\n",
    "    while(j>=i):\n",
    "        print('*',end=' ')\n",
    "        j-=1\n",
    "    print()\n",
    "    i+=1"
   ]
  },
  {
   "cell_type": "code",
   "execution_count": 45,
   "metadata": {},
   "outputs": [
    {
     "name": "stdout",
     "output_type": "stream",
     "text": [
      "          *   \n",
      "        *   *   \n",
      "      *   *   *   \n",
      "    *   *   *   *   \n",
      "  *   *   *   *   *   \n"
     ]
    }
   ],
   "source": [
    "sp=10\n",
    "i=1\n",
    "while(i<=5):\n",
    "    j=1\n",
    "    k=1\n",
    "    while(k<=sp):\n",
    "        print(\"\",end=\" \")\n",
    "        k=k+1\n",
    "    while(j<=i):\n",
    "        print('* ',end=\"  \")\n",
    "        j=j+1\n",
    "    print()\n",
    "    i=i+1\n",
    "    sp=sp-2"
   ]
  },
  {
   "cell_type": "code",
   "execution_count": 67,
   "metadata": {},
   "outputs": [
    {
     "name": "stdout",
     "output_type": "stream",
     "text": [
      "           *   *   *   *   *  \n",
      "             *   *   *   *  \n",
      "               *   *   *  \n",
      "                 *   *  \n",
      "                   *  \n"
     ]
    }
   ],
   "source": [
    "sp=10\n",
    "i=1\n",
    "while(i<=5):\n",
    "    j=5\n",
    "    k=1\n",
    "    while(k<=sp):\n",
    "        print(\" \",end=\"\")\n",
    "        k=k+1\n",
    "    while(j>=i):\n",
    "        print(' * ',end=\" \")\n",
    "        j=j-1\n",
    "    print()\n",
    "    i=i+1\n",
    "    sp=sp+2"
   ]
  },
  {
   "cell_type": "markdown",
   "metadata": {},
   "source": [
    "# Write a program to print the First 10 Even numbers"
   ]
  },
  {
   "cell_type": "code",
   "execution_count": 3,
   "metadata": {},
   "outputs": [
    {
     "name": "stdout",
     "output_type": "stream",
     "text": [
      "Even Numbers are :\n",
      "2\n",
      "4\n",
      "6\n",
      "8\n",
      "10\n",
      "12\n",
      "14\n",
      "16\n",
      "18\n",
      "20\n"
     ]
    }
   ],
   "source": [
    "\n",
    "i=1\n",
    "print('Even Numbers are :')\n",
    "while i<=20:\n",
    "    if i%2==0:\n",
    "        print(i)\n",
    "    i=i+1"
   ]
  },
  {
   "cell_type": "markdown",
   "metadata": {},
   "source": [
    "# First 10 Odd numbers"
   ]
  },
  {
   "cell_type": "code",
   "execution_count": 5,
   "metadata": {},
   "outputs": [
    {
     "name": "stdout",
     "output_type": "stream",
     "text": [
      "Odd Numbers are :\n",
      "1\n",
      "3\n",
      "5\n",
      "7\n",
      "9\n",
      "11\n",
      "13\n",
      "15\n",
      "17\n",
      "19\n"
     ]
    }
   ],
   "source": [
    "i=1\n",
    "print('Odd Numbers are :')\n",
    "while i<=20:\n",
    "    if i%2!=0:\n",
    "        print(i)\n",
    "    i=i+1"
   ]
  },
  {
   "cell_type": "markdown",
   "metadata": {},
   "source": [
    "# Write a program to print first 10 even num and their squares using while loop."
   ]
  },
  {
   "cell_type": "code",
   "execution_count": 7,
   "metadata": {},
   "outputs": [
    {
     "name": "stdout",
     "output_type": "stream",
     "text": [
      "Even Numbers are :\n",
      "2 : 4\n",
      "4 : 16\n",
      "6 : 36\n",
      "8 : 64\n",
      "10 : 100\n",
      "12 : 144\n",
      "14 : 196\n",
      "16 : 256\n",
      "18 : 324\n",
      "20 : 400\n"
     ]
    }
   ],
   "source": [
    "i=1\n",
    "print('Even Numbers and their squres :')\n",
    "while i<=20:\n",
    "    if i%2==0:\n",
    "        print(i ,':',i**2)\n",
    "    i=i+1"
   ]
  },
  {
   "cell_type": "markdown",
   "metadata": {},
   "source": [
    "# Write a while loop statement to print the following series\n",
    "#105, 98, 91 ………7."
   ]
  },
  {
   "cell_type": "code",
   "execution_count": 9,
   "metadata": {},
   "outputs": [
    {
     "name": "stdout",
     "output_type": "stream",
     "text": [
      "[105, 98, 91, 84, 77, 70, 63, 56, 49, 42, 35, 28, 21, 14, 7]\n"
     ]
    }
   ],
   "source": [
    "L=[]\n",
    "i=105\n",
    "while  i>=1:\n",
    "    if i%7==0:\n",
    "        L.append(i)\n",
    "    i-=1\n",
    "print(L)    "
   ]
  },
  {
   "cell_type": "markdown",
   "metadata": {},
   "source": [
    "# Write a program to print table of a number entered from the user."
   ]
  },
  {
   "cell_type": "code",
   "execution_count": 13,
   "metadata": {},
   "outputs": [
    {
     "name": "stdout",
     "output_type": "stream",
     "text": [
      "enter the num :4\n",
      "1 * 4 = 4\n",
      "2 * 4 = 8\n",
      "3 * 4 = 12\n",
      "4 * 4 = 16\n",
      "5 * 4 = 20\n",
      "6 * 4 = 24\n",
      "7 * 4 = 28\n",
      "8 * 4 = 32\n",
      "9 * 4 = 36\n",
      "10 * 4 = 40\n"
     ]
    }
   ],
   "source": [
    "num=int(input('enter the num :'))\n",
    "i=1\n",
    "while i<=10:\n",
    "    print(i,'*',num,'=',i*num)\n",
    "    i=i+1\n",
    "    "
   ]
  },
  {
   "cell_type": "markdown",
   "metadata": {},
   "source": [
    "# Write a program to find the sum of all even numbers that falls between two numbers (exclusive both numbers) entered from the user using while loop."
   ]
  },
  {
   "cell_type": "code",
   "execution_count": 14,
   "metadata": {},
   "outputs": [
    {
     "name": "stdout",
     "output_type": "stream",
     "text": [
      "Enter first num  : 2\n",
      "Enter second num  : 4\n",
      "2\n"
     ]
    }
   ],
   "source": [
    "num1 = int(input(\"Enter first num  : \"))\n",
    "num2 = int(input(\"Enter second num  : \"))\n",
    "if num1 > num2:\n",
    "   while(num1>num2):\n",
    "     if num2 % 2 == 0:\n",
    "       print(num2)\n",
    "     num2 = num2 + 1\n",
    "else:\n",
    "   while(num1<num2):\n",
    "     if num1 % 2 == 0:\n",
    "       print(num1)\n",
    "     num1 = num1 + 1"
   ]
  },
  {
   "cell_type": "code",
   "execution_count": 1,
   "metadata": {},
   "outputs": [],
   "source": [
    "# user and password."
   ]
  },
  {
   "cell_type": "code",
   "execution_count": 11,
   "metadata": {},
   "outputs": [
    {
     "name": "stdout",
     "output_type": "stream",
     "text": [
      "enter your user name :aaa\n",
      "enter your password :1407\n",
      "wrong password plz try agian\n",
      "enter your password :1404\n",
      "------welcome to my window--------\n"
     ]
    }
   ],
   "source": [
    "user_name='aaa'\n",
    "passwd=1404\n",
    "i=1\n",
    "while i<=3:\n",
    "    user=input('enter your user name :')\n",
    "    if user==user_name:\n",
    "        j=1\n",
    "        while j<=3:\n",
    "            password=int(input('enter your password :'))\n",
    "            if password==passwd:\n",
    "                print('------welcome to my window--------')\n",
    "                break\n",
    "            else:\n",
    "                print('wrong password plz try agian')\n",
    "            j=j+1\n",
    "        break\n",
    "    else:\n",
    "        print('username is incorrect plz try again')\n",
    "    i=i+1  "
   ]
  },
  {
   "cell_type": "markdown",
   "metadata": {},
   "source": [
    "# Write a program to print only odd numbers from the given list using while loop."
   ]
  },
  {
   "cell_type": "code",
   "execution_count": 12,
   "metadata": {},
   "outputs": [
    {
     "name": "stdout",
     "output_type": "stream",
     "text": [
      "23\n",
      "45\n",
      "25\n",
      "33\n",
      "71\n"
     ]
    }
   ],
   "source": [
    "L = [23, 45, 32, 25, 46, 33, 71, 90]\n",
    "\n",
    "i = 0\n",
    "while(i < len(L)) :\n",
    "    if L[i] % 2 != 0 :\n",
    "       print(L[i])\n",
    "    i = i + 1"
   ]
  },
  {
   "cell_type": "code",
   "execution_count": null,
   "metadata": {},
   "outputs": [],
   "source": []
  }
 ],
 "metadata": {
  "kernelspec": {
   "display_name": "Python 3",
   "language": "python",
   "name": "python3"
  },
  "language_info": {
   "codemirror_mode": {
    "name": "ipython",
    "version": 3
   },
   "file_extension": ".py",
   "mimetype": "text/x-python",
   "name": "python",
   "nbconvert_exporter": "python",
   "pygments_lexer": "ipython3",
   "version": "3.8.5"
  }
 },
 "nbformat": 4,
 "nbformat_minor": 4
}
