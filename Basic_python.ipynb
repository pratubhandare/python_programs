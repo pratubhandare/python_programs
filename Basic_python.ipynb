{
 "cells": [
  {
   "cell_type": "markdown",
   "metadata": {},
   "source": [
    "# First Program\n"
   ]
  },
  {
   "cell_type": "code",
   "execution_count": 1,
   "metadata": {},
   "outputs": [
    {
     "name": "stdout",
     "output_type": "stream",
     "text": [
      "Hello I am Pratiksha Bhandare\n"
     ]
    }
   ],
   "source": [
    "print(\"Hello I am Pratiksha Bhandare\")"
   ]
  },
  {
   "cell_type": "markdown",
   "metadata": {},
   "source": [
    "# variables"
   ]
  },
  {
   "cell_type": "code",
   "execution_count": 2,
   "metadata": {},
   "outputs": [
    {
     "name": "stdout",
     "output_type": "stream",
     "text": [
      "I am executing my First Python Program\n",
      "10\n"
     ]
    }
   ],
   "source": [
    "x=\"I am executing my First Python Program\" #A  variable hold a string\n",
    "print(x)\n",
    "\n",
    "y=10  #A  variable hold a number\n",
    "print(y)\n"
   ]
  },
  {
   "cell_type": "markdown",
   "metadata": {},
   "source": [
    "# Multi-line Statements"
   ]
  },
  {
   "cell_type": "code",
   "execution_count": 3,
   "metadata": {},
   "outputs": [
    {
     "name": "stdout",
     "output_type": "stream",
     "text": [
      "Hello  my name is  Pratiksha  Bhandare I am  24 years old .\n"
     ]
    }
   ],
   "source": [
    "name='Pratiksha '\n",
    "surname='Bhandare'\n",
    "age=24\n",
    "Address='vashi'\n",
    "\n",
    "print('Hello  my name is ',name,surname,'I am ',age,'years old .')"
   ]
  },
  {
   "cell_type": "markdown",
   "metadata": {},
   "source": [
    "# A variable can hold different types of values."
   ]
  },
  {
   "cell_type": "code",
   "execution_count": 4,
   "metadata": {},
   "outputs": [
    {
     "name": "stdout",
     "output_type": "stream",
     "text": [
      "the type of first_value is : <class 'int'>\n",
      "the type of second_value is : <class 'str'>\n",
      "the type of third_value is : <class 'float'>\n",
      "the type of fourth_value is : <class 'complex'>\n"
     ]
    }
   ],
   "source": [
    "# type() function is used to define the type of  variable .like (int,float,string,complex,list,etc.)\n",
    "\n",
    "first_value=100\n",
    "print('the type of first_value is :',type(first_value)) "
   ]
  },
  {
   "cell_type": "code",
   "execution_count": 17,
   "metadata": {},
   "outputs": [
    {
     "name": "stdout",
     "output_type": "stream",
     "text": [
      "the type of second_value is : <class 'str'>\n"
     ]
    }
   ],
   "source": [
    "second_value=\"Hi Python\" \n",
    "print('the type of second_value is :',type(second_value)) \n"
   ]
  },
  {
   "cell_type": "code",
   "execution_count": 18,
   "metadata": {},
   "outputs": [
    {
     "name": "stdout",
     "output_type": "stream",
     "text": [
      "the type of third_value is : <class 'float'>\n"
     ]
    }
   ],
   "source": [
    "third_value = 10.5\n",
    "print('the type of third_value is :',type(third_value))\n"
   ]
  },
  {
   "cell_type": "code",
   "execution_count": 19,
   "metadata": {},
   "outputs": [
    {
     "name": "stdout",
     "output_type": "stream",
     "text": [
      "the type of fourth_value is : <class 'complex'>\n"
     ]
    }
   ],
   "source": [
    "fourth_value=46+14j\n",
    "print('the type of fourth_value is :',type(fourth_value)) \n"
   ]
  },
  {
   "cell_type": "code",
   "execution_count": 5,
   "metadata": {},
   "outputs": [
    {
     "name": "stdout",
     "output_type": "stream",
     "text": [
      "lst is type of : <class 'list'>\n",
      "tupl is type of <class 'tuple'>\n",
      "sets is type of : <class 'set'>\n",
      "dic is type of : <class 'dict'>\n"
     ]
    }
   ],
   "source": [
    "lst=[1,2,3]\n",
    "print('lst is type of :',type(lst))\n"
   ]
  },
  {
   "cell_type": "code",
   "execution_count": 20,
   "metadata": {},
   "outputs": [
    {
     "name": "stdout",
     "output_type": "stream",
     "text": [
      "tupl is type of <class 'tuple'>\n"
     ]
    }
   ],
   "source": [
    "tupl=('a','b','c')\n",
    "print('tupl is type of',type(tupl))\n"
   ]
  },
  {
   "cell_type": "code",
   "execution_count": 21,
   "metadata": {},
   "outputs": [
    {
     "name": "stdout",
     "output_type": "stream",
     "text": [
      "sets is type of : <class 'set'>\n"
     ]
    }
   ],
   "source": [
    "sets={100,200,300,'a','b'}\n",
    "print('sets is type of :',type(sets))\n"
   ]
  },
  {
   "cell_type": "code",
   "execution_count": 22,
   "metadata": {},
   "outputs": [
    {
     "name": "stdout",
     "output_type": "stream",
     "text": [
      "dic is type of : <class 'dict'>\n"
     ]
    }
   ],
   "source": [
    "dic={'car_name':'skoda','type':'rapid','speed':200,'colour':'red'}\n",
    "print('dic is type of :',type(dic))\n"
   ]
  },
  {
   "cell_type": "markdown",
   "metadata": {},
   "source": [
    "# operators"
   ]
  },
  {
   "cell_type": "markdown",
   "metadata": {},
   "source": [
    "# 1 . Arithmetic Operators "
   ]
  },
  {
   "cell_type": "code",
   "execution_count": 6,
   "metadata": {},
   "outputs": [
    {
     "name": "stdout",
     "output_type": "stream",
     "text": [
      "Addition       : 60\n",
      "subtraction    : -10\n",
      "mult           : 200\n",
      "division       : 2.0\n",
      "floor division : 0\n",
      "exponent form  : 590490000000000\n"
     ]
    }
   ],
   "source": [
    "a=10\n",
    "b=20\n",
    "c=30\n",
    "\n",
    "print(\"Addition       :\",a+b+c)\n",
    "print(\"subtraction    :\",a-b)\n",
    "print(\"mult           :\",a*b)\n",
    "print(\"division       :\",b/a)\n",
    "print(\"floor division :\",a//b)\n",
    "print(\"exponent form  :\",c**a)"
   ]
  },
  {
   "cell_type": "markdown",
   "metadata": {},
   "source": [
    "# arithmatic operation using format() function."
   ]
  },
  {
   "cell_type": "raw",
   "metadata": {},
   "source": [
    "........................default format function....................."
   ]
  },
  {
   "cell_type": "code",
   "execution_count": null,
   "metadata": {},
   "outputs": [],
   "source": [
    "num1=int(input('enter the value of num1 :'))\n",
    "num2=int(input('enter the value of num2 :'))\n",
    "sums=num1+num2\n",
    "print(\"Addition of {} and {} is :\".format(num1,num2), sums)   # default order format function"
   ]
  },
  {
   "cell_type": "raw",
   "metadata": {},
   "source": [
    ".......................positional format function....................."
   ]
  },
  {
   "cell_type": "code",
   "execution_count": 23,
   "metadata": {},
   "outputs": [
    {
     "name": "stdout",
     "output_type": "stream",
     "text": [
      "enter the value of p :2\n",
      "enter the value of q :4\n",
      "Substraction of 2 and 4 is : -2\n"
     ]
    }
   ],
   "source": [
    "\n",
    "p=int(input('enter the value of p :'))\n",
    "q=int(input('enter the value of q :'))\n",
    "r=p-q\n",
    "print(\"Substraction of {0} and {1} is :\".format(p,q), r)  # position order format function\n"
   ]
  },
  {
   "cell_type": "code",
   "execution_count": 24,
   "metadata": {},
   "outputs": [
    {
     "name": "stdout",
     "output_type": "stream",
     "text": [
      "enter the value of p :5\n",
      "enter the value of q :6\n",
      "Multiplying of 6 and 5 is : 30\n"
     ]
    }
   ],
   "source": [
    "p=int(input('enter the value of p :'))\n",
    "q=int(input('enter the value of q :'))\n",
    "z=p*q\n",
    "print(\"Multiplying of {1} and {0} is :\".format(p,q), z)\n"
   ]
  },
  {
   "cell_type": "raw",
   "metadata": {},
   "source": [
    "....................keyword format function...................."
   ]
  },
  {
   "cell_type": "code",
   "execution_count": 25,
   "metadata": {},
   "outputs": [
    {
     "name": "stdout",
     "output_type": "stream",
     "text": [
      "enter the value of p :45\n",
      "enter the value of q :5\n",
      "Dividing 45 and 5 is : 9.0\n"
     ]
    }
   ],
   "source": [
    "\n",
    "p=int(input('enter the value of p :'))\n",
    "q=int(input('enter the value of q :'))\n",
    "z=p/q\n",
    "print(\"Dividing {x} and {y} is :\".format(x=p,y=q),p/q)  # keyword order format function"
   ]
  },
  {
   "cell_type": "code",
   "execution_count": 28,
   "metadata": {},
   "outputs": [
    {
     "name": "stdout",
     "output_type": "stream",
     "text": [
      "enter the value of p :46\n",
      "enter the value of q :14\n",
      "Floor Division by dividing 14 and 46 is : 3\n"
     ]
    }
   ],
   "source": [
    "p=int(input('enter the value of p :'))\n",
    "q=int(input('enter the value of q :'))\n",
    "z=p//q\n",
    "print(\"Floor Division by dividing {b} and {a} is :\".format(a=p,b=q),p//q)"
   ]
  },
  {
   "cell_type": "code",
   "execution_count": 30,
   "metadata": {},
   "outputs": [
    {
     "name": "stdout",
     "output_type": "stream",
     "text": [
      "enter the value of p :4\n",
      "Power of 4 is : 16\n"
     ]
    }
   ],
   "source": [
    "p=int(input('enter the value of p :'))\n",
    "print(\"Power of {} is :\".format(p), p**2)\n"
   ]
  },
  {
   "cell_type": "markdown",
   "metadata": {},
   "source": [
    "# relational operators"
   ]
  },
  {
   "cell_type": "code",
   "execution_count": 31,
   "metadata": {},
   "outputs": [
    {
     "name": "stdout",
     "output_type": "stream",
     "text": [
      "a is greater than b   : False\n",
      "a is less than b      : True\n",
      "a is equal to b       : False\n",
      "a is not equal to b   : True\n",
      "a is greater than or equal to b : False\n"
     ]
    }
   ],
   "source": [
    "# you can take value from user also\n",
    "a=10\n",
    "b=15\n",
    "\n",
    "print('a is greater than b   :',a>b)\n",
    "print('a is less than b      :',a<b)\n",
    "print('a is equal to b       :',a==b)\n",
    "print('a is not equal to b   :',a!=b)\n",
    "print('a is greater than or equal to b :',a>=b)"
   ]
  },
  {
   "cell_type": "markdown",
   "metadata": {},
   "source": [
    "# logical operator"
   ]
  },
  {
   "cell_type": "code",
   "execution_count": 35,
   "metadata": {},
   "outputs": [
    {
     "name": "stdout",
     "output_type": "stream",
     "text": [
      "False\n",
      "True\n"
     ]
    }
   ],
   "source": [
    "# logical operation perform on True & False condition\n",
    "\n",
    "x=True\n",
    "y=False\n",
    "\n",
    "print(x and y)\n",
    "\n",
    "print(x or y)\n",
    "\n",
    "# not keyword apply only single value\n",
    "print(not x)\n",
    "print(not y)"
   ]
  },
  {
   "cell_type": "code",
   "execution_count": 34,
   "metadata": {},
   "outputs": [
    {
     "name": "stdout",
     "output_type": "stream",
     "text": [
      "True\n",
      "False\n",
      "True\n",
      "False\n"
     ]
    }
   ],
   "source": [
    "a=10\n",
    "b=5\n",
    "c=2\n",
    "\n",
    "print(a>b and b>c)\n",
    "print(a>b and c>b)\n",
    "\n",
    "print(a>b or c>b)\n",
    "print(not(a>b or c>b))\n"
   ]
  }
 ],
 "metadata": {
  "kernelspec": {
   "display_name": "Python 3",
   "language": "python",
   "name": "python3"
  }
 },
 "nbformat": 4,
 "nbformat_minor": 4
}
